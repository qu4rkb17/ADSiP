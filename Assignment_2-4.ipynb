{
 "cells": [
  {
   "cell_type": "markdown",
   "metadata": {},
   "source": [
    "# Assignment 4\n",
    "\n",
    "Before working on this assignment please read these instructions fully. In the submission area, you will notice that you can click the link to **Preview the Grading** for each step of the assignment. This is the criteria that will be used for peer grading. Please familiarize yourself with the criteria before beginning the assignment.\n",
    "\n",
    "This assignment requires that you to find **at least** two datasets on the web which are related, and that you visualize these datasets to answer a question with the broad topic of **economic activity or measures** (see below) for the region of **Ann Arbor, Michigan, United States**, or **United States** more broadly.\n",
    "\n",
    "You can merge these datasets with data from different regions if you like! For instance, you might want to compare **Ann Arbor, Michigan, United States** to Ann Arbor, USA. In that case at least one source file must be about **Ann Arbor, Michigan, United States**.\n",
    "\n",
    "You are welcome to choose datasets at your discretion, but keep in mind **they will be shared with your peers**, so choose appropriate datasets. Sensitive, confidential, illicit, and proprietary materials are not good choices for datasets for this assignment. You are welcome to upload datasets of your own as well, and link to them using a third party repository such as github, bitbucket, pastebin, etc. Please be aware of the Coursera terms of service with respect to intellectual property.\n",
    "\n",
    "Also, you are welcome to preserve data in its original language, but for the purposes of grading you should provide english translations. You are welcome to provide multiple visuals in different languages if you would like!\n",
    "\n",
    "As this assignment is for the whole course, you must incorporate principles discussed in the first week, such as having as high data-ink ratio (Tufte) and aligning with Cairo’s principles of truth, beauty, function, and insight.\n",
    "\n",
    "Here are the assignment instructions:\n",
    "\n",
    " * State the region and the domain category that your data sets are about (e.g., **Ann Arbor, Michigan, United States** and **economic activity or measures**).\n",
    " * You must state a question about the domain category and region that you identified as being interesting.\n",
    " * You must provide at least two links to available datasets. These could be links to files such as CSV or Excel files, or links to websites which might have data in tabular form, such as Wikipedia pages.\n",
    " * You must upload an image which addresses the research question you stated. In addition to addressing the question, this visual should follow Cairo's principles of truthfulness, functionality, beauty, and insightfulness.\n",
    " * You must contribute a short (1-2 paragraph) written justification of how your visualization addresses your stated research question.\n",
    "\n",
    "What do we mean by **economic activity or measures**?  For this category you might look at the inputs or outputs to the given economy, or major changes in the economy compared to other regions.\n",
    "\n",
    "## Tips\n",
    "* Wikipedia is an excellent source of data, and I strongly encourage you to explore it for new data sources.\n",
    "* Many governments run open data initiatives at the city, region, and country levels, and these are wonderful resources for localized data sources.\n",
    "* Several international agencies, such as the [United Nations](http://data.un.org/), the [World Bank](http://data.worldbank.org/), the [Global Open Data Index](http://index.okfn.org/place/) are other great places to look for data.\n",
    "* This assignment requires you to convert and clean datafiles. Check out the discussion forums for tips on how to do this from various sources, and share your successes with your fellow students!\n",
    "\n",
    "## Example\n",
    "Looking for an example? Here's what our course assistant put together for the **Ann Arbor, MI, USA** area using **sports and athletics** as the topic. [Example Solution File](./readonly/Assignment4_example.pdf)"
   ]
  },
  {
   "cell_type": "code",
   "execution_count": null,
   "metadata": {
    "collapsed": true
   },
   "outputs": [],
   "source": [
    "\n",
    "# Import useful libraries\n",
    "import matplotlib.pyplot as plt\n",
    "import seaborn as sns\n",
    "import pandas as pd\n",
    "import numpy as np\n",
    "import os\n",
    "\n",
    "# Display all columns\n",
    "pd.set_option('display.max_columns',None)\n",
    "\n",
    "# Interactive matplotlib environment\n",
    "%matplotlib notebook\n",
    "\n",
    "# Set plot style\n",
    "sns.set_style(\"white\")"
   ]
  },
  {
   "cell_type": "code",
   "execution_count": null,
   "metadata": {
    "collapsed": false
   },
   "outputs": [],
   "source": [
    "# Read Spanish air quality data\n",
    "spain_air = pd.read_csv('datasets/22.csv', encoding='latin8')\n",
    "\n",
    "# Convert dates to datetime\n",
    "spain_air['Fecha Solar (UTC)'] = pd.to_datetime(spain_air['Fecha Solar (UTC)'])\n",
    "\n",
    "# Compute the mean for each hour of all the substations\n",
    "spain_air = spain_air.groupby(['Fecha Solar (UTC)']).mean()\n",
    "\n",
    "# Compute the mean measurements for every day\n",
    "spain_air = spain_air.resample('D').mean().ix[:-1,:]\n",
    "\n",
    "# Scale from ppm to 100ppm\n",
    "spain_air['CO'] *= 100\n",
    "\n",
    "# Select only the relevant columns, add measurement unit and unstack the pollutants\n",
    "spain_air = (spain_air[['SO2', 'CO', 'NO2']].rename(columns={\n",
    "            'SO2':'SO2 [ppb]', 'CO':'CO [10²ppm]', \n",
    "            'NO2':'NO2 [ppb]'}).unstack().reset_index(level=0)\n",
    "            .rename(columns={'level_0': 'Pollutant', 0:'Value'}))\n",
    "\n",
    "# Insert the name of the region\n",
    "spain_air['Region'] = 'Gijón, Spain. Population: 0.273 million'"
   ]
  },
  {
   "cell_type": "code",
   "execution_count": null,
   "metadata": {
    "collapsed": true
   },
   "outputs": [],
   "source": [
    "# Find U.S.A air quality files\n",
    "usa_air_files = os.listdir('datasets')\n",
    "usa_air_files = [x for x in usa_air_files if 'daily' in x]\n",
    "\n",
    "# Create name pollutants\n",
    "indicators = ['SO2 [ppb]', 'CO [10²ppm]', 'NO2 [ppb]']\n",
    "\n",
    "# Read dataframe for each pollutant and merge the measurements into one big dataset.\n",
    "# Select only the measurements from New-York city\n",
    "for i in range(3):\n",
    "    temp = pd.read_csv('datasets/'+usa_air_files[i], usecols=['City Name', 'Date Local', \n",
    "                                                  'Arithmetic Mean'])\n",
    "    temp = temp[temp['City Name']=='New York'].groupby(['Date Local']).mean()\n",
    "    \n",
    "    temp.rename(columns={'Arithmetic Mean': indicators[i]}, inplace=True)\n",
    "    \n",
    "    if i!=0:\n",
    "        usa_air = usa_air.join(temp)\n",
    "    else:\n",
    "        usa_air = temp\n",
    "\n",
    "# Scale from ppm to 100ppm\n",
    "usa_air['CO [10²ppm]'] *= 100\n",
    "\n",
    "# Unstack pollutants \n",
    "usa_air = usa_air.unstack().reset_index(level=0).rename(columns={'level_0': 'Pollutant', 0:'Value'})\n",
    "\n",
    "# Insert region name\n",
    "usa_air['Region'] = 'New York, U.S.A. Population: 8.491 million'"
   ]
  },
  {
   "cell_type": "code",
   "execution_count": null,
   "metadata": {
    "collapsed": true
   },
   "outputs": [],
   "source": [
    "# Concatenate the air quality measurements from both Gijon and New York\n",
    "air_quality = pd.concat([spain_air, usa_air], axis=0)\n",
    "\n",
    "# Draw a nested violinplot and split the violins for each region in part\n",
    "plt.figure(figsize=(12,8))\n",
    "sns.violinplot(x=\"Pollutant\", y=\"Value\", hue=\"Region\", data=air_quality, split=True, inner='quartile');\n",
    "plt.xlabel('Pollutant', fontsize=20, labelpad=20);\n",
    "plt.ylabel('Emissions', fontsize=20);\n",
    "plt.rc('xtick', labelsize=15);\n",
    "plt.rc('ytick', labelsize=15);\n",
    "plt.legend(loc='upper left', fontsize=13);\n",
    "ttl = plt.title('Comparison of pollutant emissions in 2015 between Gijón and New York', fontsize=20)\n",
    "ttl.set_position([.5, 1.02])"
   ]
  },
  {
   "cell_type": "code",
   "execution_count": null,
   "metadata": {
    "collapsed": true
   },
   "outputs": [],
   "source": []
  }
 ],
 "metadata": {
  "kernelspec": {
   "display_name": "Python 3",
   "language": "python",
   "name": "python3"
  },
  "language_info": {
   "codemirror_mode": {
    "name": "ipython",
    "version": 3
   },
   "file_extension": ".py",
   "mimetype": "text/x-python",
   "name": "python",
   "nbconvert_exporter": "python",
   "pygments_lexer": "ipython3",
   "version": "3.6.2"
  }
 },
 "nbformat": 4,
 "nbformat_minor": 1
}
